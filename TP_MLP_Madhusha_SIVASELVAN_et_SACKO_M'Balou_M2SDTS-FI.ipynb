{
 "cells": [
  {
   "cell_type": "markdown",
   "metadata": {},
   "source": [
    "# TP_MPL"
   ]
  },
  {
   "cell_type": "markdown",
   "metadata": {},
   "source": [
    "## Travail sur le jeu de données MNIST\n"
   ]
  },
  {
   "cell_type": "markdown",
   "metadata": {},
   "source": [
    "### code du chargement des données mnist avec tensorfflow"
   ]
  },
  {
   "cell_type": "code",
   "execution_count": 1,
   "metadata": {},
   "outputs": [
    {
     "name": "stderr",
     "output_type": "stream",
     "text": [
      "2022-10-20 16:42:59.410741: W tensorflow/stream_executor/platform/default/dso_loader.cc:64] Could not load dynamic library 'libcudart.so.11.0'; dlerror: libcudart.so.11.0: cannot open shared object file: No such file or directory\n",
      "2022-10-20 16:42:59.410777: I tensorflow/stream_executor/cuda/cudart_stub.cc:29] Ignore above cudart dlerror if you do not have a GPU set up on your machine.\n"
     ]
    }
   ],
   "source": [
    "import numpy as np\n",
    "from tensorflow import keras\n",
    "from tensorflow.keras import layers\n"
   ]
  },
  {
   "cell_type": "code",
   "execution_count": 2,
   "metadata": {},
   "outputs": [],
   "source": [
    "(x_train, y_train), (x_test, y_test) = keras.datasets.mnist.load_data()"
   ]
  },
  {
   "cell_type": "markdown",
   "metadata": {},
   "source": [
    "### Redimentionnement et Standardisation"
   ]
  },
  {
   "cell_type": "code",
   "execution_count": 3,
   "metadata": {},
   "outputs": [
    {
     "name": "stdout",
     "output_type": "stream",
     "text": [
      "x_train shape: (60000, 784)\n",
      "60000 train samples\n",
      "10000 test samples\n"
     ]
    }
   ],
   "source": [
    "# redimentionnement\n",
    "x_train = x_train.reshape(60000, 784)\n",
    "x_test = x_test.reshape(10000, 784)\n",
    "\n",
    "#Standardisation\n",
    "x_train = x_train.astype(\"float32\") / 255\n",
    "x_test = x_test.astype(\"float32\") / 255\n",
    "\n",
    "\n",
    "print(\"x_train shape:\", x_train.shape)\n",
    "print(x_train.shape[0], \"train samples\")\n",
    "print(x_test.shape[0], \"test samples\")\n"
   ]
  },
  {
   "cell_type": "markdown",
   "metadata": {},
   "source": [
    "### Un exemple en entrée est une image de taille fixe 28 * 28, chaque pixel étant blanc (0) ou noir (1). Le chiffre est centrée dans l’image"
   ]
  },
  {
   "cell_type": "code",
   "execution_count": 4,
   "metadata": {},
   "outputs": [
    {
     "name": "stdout",
     "output_type": "stream",
     "text": [
      "temps ecoule = 0.0008575916290283203\n"
     ]
    },
    {
     "data": {
      "image/png": "[encoded data removed]",
      "text/plain": [
       "<Figure size 1440x720 with 4 Axes>"
      ]
     },
     "metadata": {
      "needs_background": "light"
     },
     "output_type": "display_data"
    }
   ],
   "source": [
    "import time\n",
    "import matplotlib.pyplot as plt\n",
    "x_train__ = x_train.reshape(x_train.shape[0],28,28)\n",
    "\n",
    "\n",
    "fig, axis = plt.subplots(1, 4, figsize=(20, 10))\n",
    "for i, ax in enumerate(axis.flat):\n",
    "    start_time = time.time()\n",
    "    ax.imshow(x_train__[i], cmap='binary')\n",
    "    digit = y_train[i].argmax()\n",
    "    #ax.set(title = f\"Real Number is {digit}\");\n",
    "end_time = time.time()\n",
    "print('temps ecoule = '+str(end_time - start_time))"
   ]
  },
  {
   "cell_type": "markdown",
   "metadata": {},
   "source": [
    "### En faisant varier les différents hyper-paramètres du modèle, avec ou sans pre-processing, et en utilisant une GridSearch, parvenez-vous à battre les quelques références ci-après, indiquons le temps d’apprentissage du modèle et tous ses hyper-paramètres et paramètres"
   ]
  },
  {
   "cell_type": "code",
   "execution_count": 6,
   "metadata": {},
   "outputs": [
    {
     "name": "stdout",
     "output_type": "stream",
     "text": [
      "Fitting 3 folds for each of 192 candidates, totalling 576 fits\n"
     ]
    },
    {
     "name": "stderr",
     "output_type": "stream",
     "text": [
      "C:\\Users\\SACKO\\anaconda3\\lib\\site-packages\\sklearn\\model_selection\\_validation.py:372: FitFailedWarning: \n",
      "288 fits failed out of a total of 576.\n",
      "The score on these train-test partitions for these parameters will be set to nan.\n",
      "If these failures are not expected, you can try to debug them by setting error_score='raise'.\n",
      "\n",
      "Below are more details about the failures:\n",
      "--------------------------------------------------------------------------------\n",
      "288 fits failed with the following error:\n",
      "Traceback (most recent call last):\n",
      "  File \"C:\\Users\\SACKO\\anaconda3\\lib\\site-packages\\sklearn\\model_selection\\_validation.py\", line 680, in _fit_and_score\n",
      "    estimator.fit(X_train, y_train, **fit_params)\n",
      "  File \"C:\\Users\\SACKO\\anaconda3\\lib\\site-packages\\sklearn\\neural_network\\_multilayer_perceptron.py\", line 752, in fit\n",
      "    return self._fit(X, y, incremental=False)\n",
      "  File \"C:\\Users\\SACKO\\anaconda3\\lib\\site-packages\\sklearn\\neural_network\\_multilayer_perceptron.py\", line 384, in _fit\n",
      "    self._validate_hyperparameters()\n",
      "  File \"C:\\Users\\SACKO\\anaconda3\\lib\\site-packages\\sklearn\\neural_network\\_multilayer_perceptron.py\", line 498, in _validate_hyperparameters\n",
      "    raise ValueError(\"learning rate %s is not supported. \" % self.learning_rate)\n",
      "ValueError: learning rate adaptative is not supported. \n",
      "\n",
      "  warnings.warn(some_fits_failed_message, FitFailedWarning)\n",
      "C:\\Users\\SACKO\\anaconda3\\lib\\site-packages\\sklearn\\model_selection\\_search.py:969: UserWarning: One or more of the test scores are non-finite: [0.11236667 0.11236667 0.90378333        nan        nan        nan\n",
      " 0.11236667 0.11236667 0.91              nan        nan        nan\n",
      " 0.11236667 0.11236667 0.91095           nan        nan        nan\n",
      " 0.11236667 0.11236667 0.91123333        nan        nan        nan\n",
      " 0.11236667 0.11236667 0.89338333        nan        nan        nan\n",
      " 0.11236667 0.11236667 0.89733333        nan        nan        nan\n",
      " 0.11236667 0.11236667 0.89703333        nan        nan        nan\n",
      " 0.11236667 0.11236667 0.89808333        nan        nan        nan\n",
      " 0.11236667 0.11236667 0.81181667        nan        nan        nan\n",
      " 0.11236667 0.11236667 0.82505           nan        nan        nan\n",
      " 0.11236667 0.11236667 0.8259            nan        nan        nan\n",
      " 0.11236667 0.11236667 0.82343333        nan        nan        nan\n",
      " 0.11236667 0.11236667 0.11236667        nan        nan        nan\n",
      " 0.11236667 0.11236667 0.11236667        nan        nan        nan\n",
      " 0.11236667 0.11236667 0.11236667        nan        nan        nan\n",
      " 0.11236667 0.11236667 0.14151667        nan        nan        nan\n",
      " 0.6287     0.11236667 0.885             nan        nan        nan\n",
      " 0.74233333 0.11236667 0.91908333        nan        nan        nan\n",
      " 0.75655    0.11236667 0.92586667        nan        nan        nan\n",
      " 0.8141     0.11236667 0.93106667        nan        nan        nan\n",
      " 0.65736667 0.11236667 0.86955           nan        nan        nan\n",
      " 0.78401667 0.11236667 0.91213333        nan        nan        nan\n",
      " 0.75323333 0.11236667 0.91711667        nan        nan        nan\n",
      " 0.79236667 0.11236667 0.93173333        nan        nan        nan\n",
      " 0.54556667 0.11236667 0.86266667        nan        nan        nan\n",
      " 0.67611667 0.11236667 0.89173333        nan        nan        nan\n",
      " 0.81396667 0.11236667 0.8981            nan        nan        nan\n",
      " 0.85603333 0.11236667 0.90361667        nan        nan        nan\n",
      " 0.67518333 0.11236667 0.76388333        nan        nan        nan\n",
      " 0.73256667 0.11236667 0.81605           nan        nan        nan\n",
      " 0.82965    0.11236667 0.81703333        nan        nan        nan\n",
      " 0.84131667 0.11236667 0.82008333        nan        nan        nan]\n",
      "  warnings.warn(\n"
     ]
    },
    {
     "name": "stdout",
     "output_type": "stream",
     "text": [
      "Meilleure configuration :  {'activation': 'relu', 'alpha': 0.001, 'hidden_layer_sizes': 40, 'learning_rate': 'constant', 'solver': 'adam'}\n"
     ]
    },
    {
     "name": "stderr",
     "output_type": "stream",
     "text": [
      "C:\\Users\\SACKO\\anaconda3\\lib\\site-packages\\sklearn\\neural_network\\_multilayer_perceptron.py:692: ConvergenceWarning: Stochastic Optimizer: Maximum iterations (200) reached and the optimization hasn't converged yet.\n",
      "  warnings.warn(\n"
     ]
    }
   ],
   "source": [
    "from sklearn.model_selection import GridSearchCV\n",
    "from sklearn.neural_network import MLPClassifier\n",
    "#import time \n",
    "\n",
    "#start = time.time()\n",
    "param_grid={\n",
    "    'hidden_layer_sizes': [10, 20, 30, 40],\n",
    "    'activation': ['logistic', 'relu'],\n",
    "    'solver': ['lbfgs', 'sgd', 'adam'],\n",
    "    'learning_rate': ['constant','adaptative'],\n",
    "    'alpha': [0.0001, 0.001, 0.01, 0.1]\n",
    "}\n",
    "\n",
    "mlp_clf = GridSearchCV(MLPClassifier(), param_grid, cv=3, n_jobs=4, verbose=1)\n",
    "\n",
    "mlp_clf.fit(x_train, y_train)\n",
    "#end = time.time()\n",
    "#print(f\"Execution time for knn paramSearch was: {end-start}\")\n",
    "#print(\"Meilleur score : \" + str(mlp_clf.best_.score_(X_test, y_test)))\n",
    "print(\"Meilleure configuration : \",(mlp_clf.best_params_))"
   ]
  },
  {
   "cell_type": "code",
   "execution_count": 4,
   "metadata": {},
   "outputs": [
    {
     "name": "stdout",
     "output_type": "stream",
     "text": [
      "le temps d'apprentissage est 325.818466424942 seconds \n",
      "__________________________________________\n",
      "le score sur l'ensemble de test est : 0.971\n"
     ]
    },
    {
     "name": "stderr",
     "output_type": "stream",
     "text": [
      "/home/etudiant/anaconda3/lib/python3.9/site-packages/sklearn/neural_network/_multilayer_perceptron.py:692: ConvergenceWarning: Stochastic Optimizer: Maximum iterations (100) reached and the optimization hasn't converged yet.\n",
      "  warnings.warn(\n"
     ]
    }
   ],
   "source": [
    "from sklearn.model_selection import GridSearchCV\n",
    "from sklearn.neural_network import MLPClassifier\n",
    "import time \n",
    "start_time = time.time()\n",
    "#activation': 'relu', 'alpha': 0.001, 'hidden_layer_sizes': 40, 'learning_rate': 'constant', 'solver': 'adam'}\n",
    "mlp=MLPClassifier(solver='adam', max_iter=100, hidden_layer_sizes=(40),alpha=0.001,\n",
    "                  learning_rate ='constant',activation='relu')\n",
    "\n",
    "mlp.fit(x_train, y_train)\n",
    "\n",
    "print(\"le temps d'apprentissage est %s seconds \" % (time.time() - start_time))\n",
    "print(\"__________________________________________\")\n",
    "print(\"le score sur l'ensemble de test est :\",mlp.score(x_test,y_test))\n"
   ]
  },
  {
   "cell_type": "code",
   "execution_count": 7,
   "metadata": {},
   "outputs": [
    {
     "name": "stdout",
     "output_type": "stream",
     "text": [
      "Score de l'ensemble de test: 0.8824\n"
     ]
    }
   ],
   "source": [
    "from sklearn.linear_model import Perceptron\n",
    "clf=Perceptron()\n",
    "clf.fit(x_train, y_train)\n",
    "\n",
    "print(\"Score de l'ensemble de test:\",clf.score(x_test,y_test))"
   ]
  }
 ],
 "metadata": {
  "kernelspec": {
   "display_name": "Python 3",
   "language": "python",
   "name": "python3"
  },
  "language_info": {
   "codemirror_mode": {
    "name": "ipython",
    "version": 3
   },
   "file_extension": ".py",
   "mimetype": "text/x-python",
   "name": "python",
   "nbconvert_exporter": "python",
   "pygments_lexer": "ipython3",
   "version": "3.8.5"
  }
 },
 "nbformat": 4,
 "nbformat_minor": 5
}
